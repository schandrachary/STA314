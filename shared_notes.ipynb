{
 "cells": [
  {
   "cell_type": "code",
   "execution_count": 5,
   "id": "136a8d6b-e55b-46f0-8a2e-a9b1287a144a",
   "metadata": {},
   "outputs": [
    {
     "name": "stdout",
     "output_type": "stream",
     "text": [
      "[1, 2, 3, 4, 5]\n",
      "[5, 6, 7, 8, 9, 10, 11, 12, 13, 14]\n",
      "Raf's first push request for testing\n"
     ]
    }
   ],
   "source": [
    "\n",
    "onetofive= [1,2,3,4,5]\n",
    "print(onetofive)\n",
    "largeList = list(range(5,15))\n",
    "print(largeList)\n",
    "print(\"Raf's first push request for testing\")"
   ]
  },
  {
   "cell_type": "code",
   "execution_count": 1,
   "id": "2d3238d0",
   "metadata": {},
   "outputs": [
    {
     "name": "stdout",
     "output_type": "stream",
     "text": [
      "Testing Caitlyn's setup!!\n"
     ]
    }
   ],
   "source": [
    "print(\"Testing Caitlyn's setup!!\")"
   ]
  },
  {
   "cell_type": "code",
   "execution_count": 5,
   "id": "bc091a76",
   "metadata": {},
   "outputs": [
    {
     "name": "stdout",
     "output_type": "stream",
     "text": [
      "[ 1  5  3  6 23]\n"
     ]
    }
   ],
   "source": [
    "import numpy as np\n",
    "\n",
    "a1 = np.array([1,5,3,6,23])\n",
    "\n",
    "print(a1)"
   ]
  }
 ],
 "metadata": {
  "kernelspec": {
   "display_name": "Python 3 (ipykernel)",
   "language": "python",
   "name": "python3"
  },
  "language_info": {
   "codemirror_mode": {
    "name": "ipython",
    "version": 3
   },
   "file_extension": ".py",
   "mimetype": "text/x-python",
   "name": "python",
   "nbconvert_exporter": "python",
   "pygments_lexer": "ipython3",
   "version": "3.11.6"
  }
 },
 "nbformat": 4,
 "nbformat_minor": 5
}
