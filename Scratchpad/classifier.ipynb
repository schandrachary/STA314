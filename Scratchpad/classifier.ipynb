{
 "cells": [
  {
   "cell_type": "code",
   "execution_count": 13,
   "id": "f3ae0914-f245-4337-882f-b56e1206900d",
   "metadata": {},
   "outputs": [],
   "source": [
    "import numpy as np \n",
    "import pandas as pd\n",
    "from sklearn.model_selection import train_test_split \n",
    "from sklearn.feature_extraction.text import TfidfVectorizer\n",
    "from sklearn.linear_model import LogisticRegression\n",
    "from sklearn.metrics import accuracy_score"
   ]
  },
  {
   "cell_type": "code",
   "execution_count": 15,
   "id": "c6252e8e-0daa-4972-bdbb-ada700f8ab6c",
   "metadata": {},
   "outputs": [
    {
     "ename": "FileNotFoundError",
     "evalue": "[Errno 2] No such file or directory: 'train.csv'",
     "output_type": "error",
     "traceback": [
      "\u001b[0;31m---------------------------------------------------------------------------\u001b[0m",
      "\u001b[0;31mFileNotFoundError\u001b[0m                         Traceback (most recent call last)",
      "Cell \u001b[0;32mIn[15], line 1\u001b[0m\n\u001b[0;32m----> 1\u001b[0m df \u001b[38;5;241m=\u001b[39m pd\u001b[38;5;241m.\u001b[39mread_csv(\u001b[38;5;124m\"\u001b[39m\u001b[38;5;124mtrain.csv\u001b[39m\u001b[38;5;124m\"\u001b[39m)\n\u001b[1;32m      2\u001b[0m df_test \u001b[38;5;241m=\u001b[39m pd\u001b[38;5;241m.\u001b[39mread_csv(\u001b[38;5;124m\"\u001b[39m\u001b[38;5;124mtest.csv\u001b[39m\u001b[38;5;124m\"\u001b[39m)\n\u001b[1;32m      3\u001b[0m comments_test \u001b[38;5;241m=\u001b[39m df_test[\u001b[38;5;124m\"\u001b[39m\u001b[38;5;124mCONTENT\u001b[39m\u001b[38;5;124m\"\u001b[39m]\n",
      "File \u001b[0;32m/opt/anaconda3/lib/python3.12/site-packages/pandas/io/parsers/readers.py:1026\u001b[0m, in \u001b[0;36mread_csv\u001b[0;34m(filepath_or_buffer, sep, delimiter, header, names, index_col, usecols, dtype, engine, converters, true_values, false_values, skipinitialspace, skiprows, skipfooter, nrows, na_values, keep_default_na, na_filter, verbose, skip_blank_lines, parse_dates, infer_datetime_format, keep_date_col, date_parser, date_format, dayfirst, cache_dates, iterator, chunksize, compression, thousands, decimal, lineterminator, quotechar, quoting, doublequote, escapechar, comment, encoding, encoding_errors, dialect, on_bad_lines, delim_whitespace, low_memory, memory_map, float_precision, storage_options, dtype_backend)\u001b[0m\n\u001b[1;32m   1013\u001b[0m kwds_defaults \u001b[38;5;241m=\u001b[39m _refine_defaults_read(\n\u001b[1;32m   1014\u001b[0m     dialect,\n\u001b[1;32m   1015\u001b[0m     delimiter,\n\u001b[0;32m   (...)\u001b[0m\n\u001b[1;32m   1022\u001b[0m     dtype_backend\u001b[38;5;241m=\u001b[39mdtype_backend,\n\u001b[1;32m   1023\u001b[0m )\n\u001b[1;32m   1024\u001b[0m kwds\u001b[38;5;241m.\u001b[39mupdate(kwds_defaults)\n\u001b[0;32m-> 1026\u001b[0m \u001b[38;5;28;01mreturn\u001b[39;00m _read(filepath_or_buffer, kwds)\n",
      "File \u001b[0;32m/opt/anaconda3/lib/python3.12/site-packages/pandas/io/parsers/readers.py:620\u001b[0m, in \u001b[0;36m_read\u001b[0;34m(filepath_or_buffer, kwds)\u001b[0m\n\u001b[1;32m    617\u001b[0m _validate_names(kwds\u001b[38;5;241m.\u001b[39mget(\u001b[38;5;124m\"\u001b[39m\u001b[38;5;124mnames\u001b[39m\u001b[38;5;124m\"\u001b[39m, \u001b[38;5;28;01mNone\u001b[39;00m))\n\u001b[1;32m    619\u001b[0m \u001b[38;5;66;03m# Create the parser.\u001b[39;00m\n\u001b[0;32m--> 620\u001b[0m parser \u001b[38;5;241m=\u001b[39m TextFileReader(filepath_or_buffer, \u001b[38;5;241m*\u001b[39m\u001b[38;5;241m*\u001b[39mkwds)\n\u001b[1;32m    622\u001b[0m \u001b[38;5;28;01mif\u001b[39;00m chunksize \u001b[38;5;129;01mor\u001b[39;00m iterator:\n\u001b[1;32m    623\u001b[0m     \u001b[38;5;28;01mreturn\u001b[39;00m parser\n",
      "File \u001b[0;32m/opt/anaconda3/lib/python3.12/site-packages/pandas/io/parsers/readers.py:1620\u001b[0m, in \u001b[0;36mTextFileReader.__init__\u001b[0;34m(self, f, engine, **kwds)\u001b[0m\n\u001b[1;32m   1617\u001b[0m     \u001b[38;5;28mself\u001b[39m\u001b[38;5;241m.\u001b[39moptions[\u001b[38;5;124m\"\u001b[39m\u001b[38;5;124mhas_index_names\u001b[39m\u001b[38;5;124m\"\u001b[39m] \u001b[38;5;241m=\u001b[39m kwds[\u001b[38;5;124m\"\u001b[39m\u001b[38;5;124mhas_index_names\u001b[39m\u001b[38;5;124m\"\u001b[39m]\n\u001b[1;32m   1619\u001b[0m \u001b[38;5;28mself\u001b[39m\u001b[38;5;241m.\u001b[39mhandles: IOHandles \u001b[38;5;241m|\u001b[39m \u001b[38;5;28;01mNone\u001b[39;00m \u001b[38;5;241m=\u001b[39m \u001b[38;5;28;01mNone\u001b[39;00m\n\u001b[0;32m-> 1620\u001b[0m \u001b[38;5;28mself\u001b[39m\u001b[38;5;241m.\u001b[39m_engine \u001b[38;5;241m=\u001b[39m \u001b[38;5;28mself\u001b[39m\u001b[38;5;241m.\u001b[39m_make_engine(f, \u001b[38;5;28mself\u001b[39m\u001b[38;5;241m.\u001b[39mengine)\n",
      "File \u001b[0;32m/opt/anaconda3/lib/python3.12/site-packages/pandas/io/parsers/readers.py:1880\u001b[0m, in \u001b[0;36mTextFileReader._make_engine\u001b[0;34m(self, f, engine)\u001b[0m\n\u001b[1;32m   1878\u001b[0m     \u001b[38;5;28;01mif\u001b[39;00m \u001b[38;5;124m\"\u001b[39m\u001b[38;5;124mb\u001b[39m\u001b[38;5;124m\"\u001b[39m \u001b[38;5;129;01mnot\u001b[39;00m \u001b[38;5;129;01min\u001b[39;00m mode:\n\u001b[1;32m   1879\u001b[0m         mode \u001b[38;5;241m+\u001b[39m\u001b[38;5;241m=\u001b[39m \u001b[38;5;124m\"\u001b[39m\u001b[38;5;124mb\u001b[39m\u001b[38;5;124m\"\u001b[39m\n\u001b[0;32m-> 1880\u001b[0m \u001b[38;5;28mself\u001b[39m\u001b[38;5;241m.\u001b[39mhandles \u001b[38;5;241m=\u001b[39m get_handle(\n\u001b[1;32m   1881\u001b[0m     f,\n\u001b[1;32m   1882\u001b[0m     mode,\n\u001b[1;32m   1883\u001b[0m     encoding\u001b[38;5;241m=\u001b[39m\u001b[38;5;28mself\u001b[39m\u001b[38;5;241m.\u001b[39moptions\u001b[38;5;241m.\u001b[39mget(\u001b[38;5;124m\"\u001b[39m\u001b[38;5;124mencoding\u001b[39m\u001b[38;5;124m\"\u001b[39m, \u001b[38;5;28;01mNone\u001b[39;00m),\n\u001b[1;32m   1884\u001b[0m     compression\u001b[38;5;241m=\u001b[39m\u001b[38;5;28mself\u001b[39m\u001b[38;5;241m.\u001b[39moptions\u001b[38;5;241m.\u001b[39mget(\u001b[38;5;124m\"\u001b[39m\u001b[38;5;124mcompression\u001b[39m\u001b[38;5;124m\"\u001b[39m, \u001b[38;5;28;01mNone\u001b[39;00m),\n\u001b[1;32m   1885\u001b[0m     memory_map\u001b[38;5;241m=\u001b[39m\u001b[38;5;28mself\u001b[39m\u001b[38;5;241m.\u001b[39moptions\u001b[38;5;241m.\u001b[39mget(\u001b[38;5;124m\"\u001b[39m\u001b[38;5;124mmemory_map\u001b[39m\u001b[38;5;124m\"\u001b[39m, \u001b[38;5;28;01mFalse\u001b[39;00m),\n\u001b[1;32m   1886\u001b[0m     is_text\u001b[38;5;241m=\u001b[39mis_text,\n\u001b[1;32m   1887\u001b[0m     errors\u001b[38;5;241m=\u001b[39m\u001b[38;5;28mself\u001b[39m\u001b[38;5;241m.\u001b[39moptions\u001b[38;5;241m.\u001b[39mget(\u001b[38;5;124m\"\u001b[39m\u001b[38;5;124mencoding_errors\u001b[39m\u001b[38;5;124m\"\u001b[39m, \u001b[38;5;124m\"\u001b[39m\u001b[38;5;124mstrict\u001b[39m\u001b[38;5;124m\"\u001b[39m),\n\u001b[1;32m   1888\u001b[0m     storage_options\u001b[38;5;241m=\u001b[39m\u001b[38;5;28mself\u001b[39m\u001b[38;5;241m.\u001b[39moptions\u001b[38;5;241m.\u001b[39mget(\u001b[38;5;124m\"\u001b[39m\u001b[38;5;124mstorage_options\u001b[39m\u001b[38;5;124m\"\u001b[39m, \u001b[38;5;28;01mNone\u001b[39;00m),\n\u001b[1;32m   1889\u001b[0m )\n\u001b[1;32m   1890\u001b[0m \u001b[38;5;28;01massert\u001b[39;00m \u001b[38;5;28mself\u001b[39m\u001b[38;5;241m.\u001b[39mhandles \u001b[38;5;129;01mis\u001b[39;00m \u001b[38;5;129;01mnot\u001b[39;00m \u001b[38;5;28;01mNone\u001b[39;00m\n\u001b[1;32m   1891\u001b[0m f \u001b[38;5;241m=\u001b[39m \u001b[38;5;28mself\u001b[39m\u001b[38;5;241m.\u001b[39mhandles\u001b[38;5;241m.\u001b[39mhandle\n",
      "File \u001b[0;32m/opt/anaconda3/lib/python3.12/site-packages/pandas/io/common.py:873\u001b[0m, in \u001b[0;36mget_handle\u001b[0;34m(path_or_buf, mode, encoding, compression, memory_map, is_text, errors, storage_options)\u001b[0m\n\u001b[1;32m    868\u001b[0m \u001b[38;5;28;01melif\u001b[39;00m \u001b[38;5;28misinstance\u001b[39m(handle, \u001b[38;5;28mstr\u001b[39m):\n\u001b[1;32m    869\u001b[0m     \u001b[38;5;66;03m# Check whether the filename is to be opened in binary mode.\u001b[39;00m\n\u001b[1;32m    870\u001b[0m     \u001b[38;5;66;03m# Binary mode does not support 'encoding' and 'newline'.\u001b[39;00m\n\u001b[1;32m    871\u001b[0m     \u001b[38;5;28;01mif\u001b[39;00m ioargs\u001b[38;5;241m.\u001b[39mencoding \u001b[38;5;129;01mand\u001b[39;00m \u001b[38;5;124m\"\u001b[39m\u001b[38;5;124mb\u001b[39m\u001b[38;5;124m\"\u001b[39m \u001b[38;5;129;01mnot\u001b[39;00m \u001b[38;5;129;01min\u001b[39;00m ioargs\u001b[38;5;241m.\u001b[39mmode:\n\u001b[1;32m    872\u001b[0m         \u001b[38;5;66;03m# Encoding\u001b[39;00m\n\u001b[0;32m--> 873\u001b[0m         handle \u001b[38;5;241m=\u001b[39m \u001b[38;5;28mopen\u001b[39m(\n\u001b[1;32m    874\u001b[0m             handle,\n\u001b[1;32m    875\u001b[0m             ioargs\u001b[38;5;241m.\u001b[39mmode,\n\u001b[1;32m    876\u001b[0m             encoding\u001b[38;5;241m=\u001b[39mioargs\u001b[38;5;241m.\u001b[39mencoding,\n\u001b[1;32m    877\u001b[0m             errors\u001b[38;5;241m=\u001b[39merrors,\n\u001b[1;32m    878\u001b[0m             newline\u001b[38;5;241m=\u001b[39m\u001b[38;5;124m\"\u001b[39m\u001b[38;5;124m\"\u001b[39m,\n\u001b[1;32m    879\u001b[0m         )\n\u001b[1;32m    880\u001b[0m     \u001b[38;5;28;01melse\u001b[39;00m:\n\u001b[1;32m    881\u001b[0m         \u001b[38;5;66;03m# Binary mode\u001b[39;00m\n\u001b[1;32m    882\u001b[0m         handle \u001b[38;5;241m=\u001b[39m \u001b[38;5;28mopen\u001b[39m(handle, ioargs\u001b[38;5;241m.\u001b[39mmode)\n",
      "\u001b[0;31mFileNotFoundError\u001b[0m: [Errno 2] No such file or directory: 'train.csv'"
     ]
    }
   ],
   "source": [
    "df = pd.read_csv(\"train.csv\")\n",
    "df_test = pd.read_csv(\"test.csv\")\n",
    "comments_test = df_test[\"CONTENT\"]\n",
    "print(comments_test)"
   ]
  },
  {
   "cell_type": "code",
   "execution_count": null,
   "id": "be5a1944-bcd0-4f74-9e26-8cca6d48525d",
   "metadata": {},
   "outputs": [],
   "source": [
    "print(df)"
   ]
  },
  {
   "cell_type": "code",
   "execution_count": null,
   "id": "1564cc25",
   "metadata": {},
   "outputs": [],
   "source": [
    "print(df_test)\n",
    "df_test.head()"
   ]
  },
  {
   "cell_type": "code",
   "execution_count": null,
   "id": "6a1115b5-4b28-4d2d-95b8-b85ce15058d6",
   "metadata": {},
   "outputs": [],
   "source": [
    "df.isnull().sum()"
   ]
  },
  {
   "cell_type": "markdown",
   "id": "a4b20035-ff80-47e0-b043-91fcf62af87f",
   "metadata": {},
   "source": [
    "We can see that the content and class column has 0 missing values. Only some dates missing which is pretty irrelevant. Let's remove irrelevant columns. "
   ]
  },
  {
   "cell_type": "code",
   "execution_count": null,
   "id": "77ad6d63-6920-4e68-9aa6-f88590dca755",
   "metadata": {},
   "outputs": [],
   "source": [
    "df = df.drop([\"DATE\", \"VIDEO_NAME\"], axis = 1)"
   ]
  },
  {
   "cell_type": "code",
   "execution_count": null,
   "id": "bf36bd96-c827-468d-a8a4-34652a9b52ba",
   "metadata": {},
   "outputs": [],
   "source": [
    "df.head(10)"
   ]
  },
  {
   "cell_type": "markdown",
   "id": "cf11bffa-a11b-4871-bc76-e49b51d7d6f7",
   "metadata": {},
   "source": [
    "Let's create our training and testing data. 20% of data for testing and 80% for training"
   ]
  },
  {
   "cell_type": "code",
   "execution_count": null,
   "id": "76a5ddaa-a503-4e59-b647-60f459153ab6",
   "metadata": {},
   "outputs": [],
   "source": [
    "X = df[\"CONTENT\"]\n",
    "Y = df[\"CLASS\"]\n",
    "print(X)"
   ]
  },
  {
   "cell_type": "code",
   "execution_count": null,
   "id": "636f40b2-5faf-4656-acde-8e155d144204",
   "metadata": {},
   "outputs": [],
   "source": [
    "X_train, X_test, Y_train, Y_test = train_test_split(X, Y, test_size = 0.2, random_state = 3)\n"
   ]
  },
  {
   "cell_type": "code",
   "execution_count": null,
   "id": "6ec669ad-7a3b-435e-8b82-2a384b8f929e",
   "metadata": {},
   "outputs": [],
   "source": [
    "feature_extraction = TfidfVectorizer(min_df = 1, stop_words = 'english', lowercase = True)\n",
    "X_train_features = feature_extraction.fit_transform(X_train)\n",
    "X_test_features = feature_extraction.transform(X_test)\n",
    "\n",
    "#let's make sure the labels for Y are in int form e.g 0, 1 and not any other like \"0\", \"1\"\n",
    "Y_train = Y_train.astype('int')\n",
    "Y_test = Y_test.astype('int')"
   ]
  },
  {
   "cell_type": "code",
   "execution_count": null,
   "id": "1dbb1456",
   "metadata": {},
   "outputs": [],
   "source": [
    "test_data_X = feature_extraction.transform(comments_test)"
   ]
  },
  {
   "cell_type": "code",
   "execution_count": null,
   "id": "ea8fc7c4",
   "metadata": {},
   "outputs": [],
   "source": [
    "X_train_features.shape"
   ]
  },
  {
   "cell_type": "code",
   "execution_count": null,
   "id": "7b9f5b71-96af-4cab-8831-0e576ae31686",
   "metadata": {},
   "outputs": [],
   "source": [
    "print(X_train_features)\n",
    "X_train_features.shape"
   ]
  },
  {
   "cell_type": "markdown",
   "id": "17b1a4ac-d47f-490a-9177-d6ca41824662",
   "metadata": {},
   "source": [
    "We created the TF-IDF matrix where each sentence represented as a vector with weighing given to certain words. \n",
    "Notice how there are 2821 columns meaning there are 2821 features (DAMN). "
   ]
  },
  {
   "cell_type": "code",
   "execution_count": null,
   "id": "cabb8f84-06b8-4415-904d-d37fe3d2c811",
   "metadata": {},
   "outputs": [],
   "source": [
    "model = LogisticRegression() #create an instance of a logistic regression model I can train"
   ]
  },
  {
   "cell_type": "code",
   "execution_count": null,
   "id": "3ad53c6e-429a-41d1-988d-1764b7916167",
   "metadata": {},
   "outputs": [],
   "source": [
    "model.fit(X_train_features, Y_train) #training logistic regression model on training data using MLE"
   ]
  },
  {
   "cell_type": "code",
   "execution_count": null,
   "id": "d3b61e56-5c77-4ee6-9a50-f8a0b756971d",
   "metadata": {},
   "outputs": [],
   "source": [
    "#the next line takes the matrix of training data and spits out an array of predictions full of \n",
    "#0s and 1s, classifying each vector (representation of a sentence) as spam or non-spam\n",
    "prediction_on_training_data = model.predict(X_train_features) \n",
    "\n",
    "#accuracy score = # of correct predictions / Total # of predictions \n",
    "#CALCULATING 1 - TRAINING ERROR RATE \n",
    "accuracy_on_training_data = accuracy_score(Y_train, prediction_on_training_data)\n",
    "print(accuracy_on_training_data)"
   ]
  },
  {
   "cell_type": "code",
   "execution_count": null,
   "id": "fbf2a262",
   "metadata": {},
   "outputs": [],
   "source": [
    "test_data_prediction = model.predict(test_data_X) \n",
    "print(test_data_prediction)\n",
    "test_data_prediction.shape\n",
    "df_test[\"CLASS\"] = test_data_prediction\n",
    "df_test.head()\n",
    "\n"
   ]
  },
  {
   "cell_type": "code",
   "execution_count": null,
   "id": "937d017d",
   "metadata": {},
   "outputs": [],
   "source": [
    "# Drop every column except for commentID and Class\n",
    "df_test = df_test.drop([\"AUTHOR\", \"DATE\", \"CONTENT\", \"VIDEO_NAME\"], axis = 1)\n",
    "df_test.head()"
   ]
  },
  {
   "cell_type": "code",
   "execution_count": null,
   "id": "0d0700ba",
   "metadata": {},
   "outputs": [],
   "source": [
    "#Store df_test in a .csv file\n",
    "df_test.to_csv(\"classified_result.csv\", index=False)"
   ]
  },
  {
   "cell_type": "code",
   "execution_count": null,
   "id": "3091ecf7",
   "metadata": {},
   "outputs": [],
   "source": [
    "# print(X_train_features)\n",
    "prediction_on_training_data"
   ]
  },
  {
   "cell_type": "code",
   "execution_count": null,
   "id": "957c6566-89d0-4225-b938-8f8e4efbbe3b",
   "metadata": {},
   "outputs": [],
   "source": [
    "print(accuracy_on_training_data)"
   ]
  },
  {
   "cell_type": "markdown",
   "id": "a8bb38eb-18ac-4d0e-a2a7-1d2fbf10fc4d",
   "metadata": {},
   "source": [
    "Our predictions were correct 97.5% of the time using the logistic regression model we fitted. "
   ]
  },
  {
   "cell_type": "code",
   "execution_count": null,
   "id": "19785b8c-9936-4ff4-93c1-799bec720287",
   "metadata": {},
   "outputs": [],
   "source": [
    "prediction_on_test_data = model.predict(X_test_features)\n",
    "accuracy_on_test_data = accuracy_score(Y_test, prediction_on_test_data)"
   ]
  },
  {
   "cell_type": "code",
   "execution_count": null,
   "id": "215d332d-ec00-4173-ae18-ec209c046da0",
   "metadata": {},
   "outputs": [],
   "source": [
    "print(accuracy_on_test_data)"
   ]
  },
  {
   "cell_type": "markdown",
   "id": "c5fe81b3-e961-45ce-92db-bd3ec0389f2e",
   "metadata": {},
   "source": [
    "Pretty good accuracy on test data as well. "
   ]
  },
  {
   "cell_type": "code",
   "execution_count": null,
   "id": "682c2bc7-b570-4552-9730-5cc45234f642",
   "metadata": {},
   "outputs": [],
   "source": [
    "input_your_comment = [\"\"]\n",
    "input_data_features = feature_extraction.transform(input_your_comment)\n",
    "prediction = model.predict(input_data_features)\n",
    "print(prediction)\n"
   ]
  },
  {
   "cell_type": "code",
   "execution_count": null,
   "id": "6b2d1884-a724-4c73-9c8d-2f2a9fd69fda",
   "metadata": {},
   "outputs": [],
   "source": [
    "df2 = pd.read_csv(\"test.csv\")"
   ]
  },
  {
   "cell_type": "code",
   "execution_count": null,
   "id": "686fa4b3-d8a3-4e52-b6ef-4f5dbd5fa19f",
   "metadata": {},
   "outputs": [],
   "source": [
    "df2.head()"
   ]
  },
  {
   "cell_type": "code",
   "execution_count": null,
   "id": "c5e16346-a57f-4cc2-93c4-a79b6e7e0a9d",
   "metadata": {},
   "outputs": [],
   "source": [
    "X1 = df2[\"CONTENT\"]\n",
    "#No Y labels. How can I compare this to true labels? idk\n",
    "transform_X1 = feature_extraction.transform(X1)\n",
    "new_prediction = model.predict(transform_X1)"
   ]
  },
  {
   "cell_type": "code",
   "execution_count": null,
   "id": "ea609700-dc6f-4f60-a742-07aad63dbe74",
   "metadata": {},
   "outputs": [],
   "source": [
    "# Now that we have a model above that works, we will look at grid-search CV methods to search for the best model using hyperparameter tuning\n",
    "\n",
    "# Consturct a parameter grid \n",
    "param_grid = [\n",
    "    {'penalty':['l1','l2','elasticnet','none'],\n",
    "    'C' : np.logspace(-4,4,20),\n",
    "    'solver': ['lbfgs','newton-cg','liblinear','sag','saga'],\n",
    "    'max_iter'  : [100,1000,2500,5000]\n",
    "}\n",
    "]\n"
   ]
  },
  {
   "cell_type": "code",
   "execution_count": null,
   "id": "89393f41",
   "metadata": {},
   "outputs": [],
   "source": [
    "\n",
    "# Load grid-search-cv frok sklearn and fit the model \n",
    "from sklearn.model_selection import GridSearchCV\n",
    "clf = GridSearchCV(model,param_grid = param_grid, cv = 3, verbose=True,n_jobs=-1)\n",
    "\n",
    "best_clf = clf.fit(X_train_features, Y_train)\n",
    "best_clf.best_estimator_"
   ]
  },
  {
   "cell_type": "code",
   "execution_count": null,
   "id": "0ba60622",
   "metadata": {},
   "outputs": [],
   "source": [
    "# Checking the accuracy score on the best fit model\n",
    "print(f'Accuracy after tuninig parameters - : {best_clf.score(X_train_features, Y_train):.3f}')\n",
    "# accuracy_score(Y_train, prediction_on_training_data)"
   ]
  },
  {
   "cell_type": "code",
   "execution_count": null,
   "id": "891221b2",
   "metadata": {},
   "outputs": [],
   "source": [
    "clf_prediction_on_training_data = clf.predict(X_train_features) \n",
    "\n",
    "#accuracy score = # of correct predictions / Total # of predictions \n",
    "#CALCULATING 1 - TRAINING ERROR RATE \n",
    "clf_accuracy_on_training_data = accuracy_score(Y_train, clf_prediction_on_training_data)\n",
    "print(clf_accuracy_on_training_data)"
   ]
  },
  {
   "cell_type": "code",
   "execution_count": null,
   "id": "ba9393c9",
   "metadata": {},
   "outputs": [],
   "source": [
    "clf_prediction_on_test_data = clf.predict(X_test_features)\n",
    "clf_accuracy_on_test_data = accuracy_score(Y_test, clf_prediction_on_test_data)\n",
    "print(clf_accuracy_on_test_data)"
   ]
  },
  {
   "cell_type": "code",
   "execution_count": null,
   "id": "ebe73f2c",
   "metadata": {},
   "outputs": [],
   "source": []
  }
 ],
 "metadata": {
  "kernelspec": {
   "display_name": "Python 3 (ipykernel)",
   "language": "python",
   "name": "python3"
  },
  "language_info": {
   "codemirror_mode": {
    "name": "ipython",
    "version": 3
   },
   "file_extension": ".py",
   "mimetype": "text/x-python",
   "name": "python",
   "nbconvert_exporter": "python",
   "pygments_lexer": "ipython3",
   "version": "3.12.4"
  }
 },
 "nbformat": 4,
 "nbformat_minor": 5
}
