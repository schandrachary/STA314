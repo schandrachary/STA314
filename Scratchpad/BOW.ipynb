{
 "cells": [
  {
   "cell_type": "code",
   "execution_count": 93,
   "id": "f3ae0914-f245-4337-882f-b56e1206900d",
   "metadata": {},
   "outputs": [],
   "source": [
    "import numpy as np \n",
    "import pandas as pd\n",
    "import re\n",
    "from sklearn.model_selection import train_test_split \n",
    "from sklearn.feature_extraction.text import CountVectorizer\n",
    "from sklearn.linear_model import LassoCV\n",
    "from sklearn.preprocessing import StandardScaler\n",
    "from sklearn.pipeline import Pipeline\n",
    "from sklearn.pipeline import make_pipeline\n",
    "from sklearn.linear_model import LogisticRegression\n",
    "from sklearn.metrics import accuracy_score\n",
    "from sklearn.metrics import f1_score"
   ]
  },
  {
   "cell_type": "markdown",
   "id": "e23c8b32",
   "metadata": {},
   "source": [
    "Read the train data"
   ]
  },
  {
   "cell_type": "code",
   "execution_count": 94,
   "id": "c6252e8e-0daa-4972-bdbb-ada700f8ab6c",
   "metadata": {},
   "outputs": [
    {
     "name": "stdout",
     "output_type": "stream",
     "text": [
      "      COMMENT_ID             AUTHOR                     DATE  \\\n",
      "0              1      Brandon Pryor      2014-01-19 00:36:25   \n",
      "1              2        Chelsea Yun  2015-05-23 07:17:09.691   \n",
      "2              3  Sofia Aristizabal      2014-09-09 00:43:52   \n",
      "3              4     said abdesalam  2015-05-24 07:35:13.754   \n",
      "4              5         crazy girl  2015-05-23 23:26:05.305   \n",
      "...          ...                ...                      ...   \n",
      "1364        1365          Seth Ryan  2015-05-21 20:04:26.473   \n",
      "1365        1366       sagar basnet      2014-11-07 15:31:25   \n",
      "1366        1367       Sarcataclysm      2014-09-20 23:11:39   \n",
      "1367        1368  liu hui (dukegod)  2015-05-21 05:12:43.987   \n",
      "1368        1369     RusPassingGame  2015-05-25 11:04:16.985   \n",
      "\n",
      "                                                CONTENT  \\\n",
      "0     I dont even watch it anymore i just come here ...   \n",
      "1                                           i hate rap﻿   \n",
      "2           I loved, she is amazing.. OMG your eyes*_*﻿   \n",
      "3                                          song is bad﻿   \n",
      "4                                          tension⤴︎⤴︎﻿   \n",
      "...                                                 ...   \n",
      "1364                                        Great song﻿   \n",
      "1365    The population of world is more than 7 billion﻿   \n",
      "1366  At least she didn't get rid of her completely ...   \n",
      "1367                                  i love this song﻿   \n",
      "1368                      Who is watching in 2015 like﻿   \n",
      "\n",
      "                                             VIDEO_NAME  CLASS  \n",
      "0                        PSY - GANGNAM STYLE(?????) M/V      0  \n",
      "1             Eminem - Love The Way You Lie ft. Rihanna      0  \n",
      "2                                     Katy Perry - Roar      0  \n",
      "3             Eminem - Love The Way You Lie ft. Rihanna      0  \n",
      "4     LMFAO - Party Rock Anthem ft. Lauren Bennett, ...      0  \n",
      "...                                                 ...    ...  \n",
      "1364          Eminem - Love The Way You Lie ft. Rihanna      0  \n",
      "1365                     PSY - GANGNAM STYLE(?????) M/V      0  \n",
      "1366                                  Katy Perry - Roar      0  \n",
      "1367          Eminem - Love The Way You Lie ft. Rihanna      0  \n",
      "1368          Eminem - Love The Way You Lie ft. Rihanna      0  \n",
      "\n",
      "[1369 rows x 6 columns]\n"
     ]
    }
   ],
   "source": [
    "df = pd.read_csv(\"train.csv\")\n",
    "print(df)"
   ]
  },
  {
   "cell_type": "markdown",
   "id": "1834581e",
   "metadata": {},
   "source": [
    "Check the missing data and keep the data we'd work on"
   ]
  },
  {
   "cell_type": "code",
   "execution_count": 95,
   "id": "6a1115b5-4b28-4d2d-95b8-b85ce15058d6",
   "metadata": {},
   "outputs": [
    {
     "data": {
      "text/plain": [
       "COMMENT_ID      0\n",
       "AUTHOR          0\n",
       "DATE          170\n",
       "CONTENT         0\n",
       "VIDEO_NAME      0\n",
       "CLASS           0\n",
       "dtype: int64"
      ]
     },
     "execution_count": 95,
     "metadata": {},
     "output_type": "execute_result"
    }
   ],
   "source": [
    "df.isnull().sum()"
   ]
  },
  {
   "cell_type": "code",
   "execution_count": 96,
   "id": "77ad6d63-6920-4e68-9aa6-f88590dca755",
   "metadata": {},
   "outputs": [],
   "source": [
    "df = df.drop([\"DATE\", \"VIDEO_NAME\"], axis = 1)"
   ]
  },
  {
   "cell_type": "code",
   "execution_count": 97,
   "id": "bf36bd96-c827-468d-a8a4-34652a9b52ba",
   "metadata": {
    "scrolled": true
   },
   "outputs": [
    {
     "data": {
      "text/html": [
       "<div>\n",
       "<style scoped>\n",
       "    .dataframe tbody tr th:only-of-type {\n",
       "        vertical-align: middle;\n",
       "    }\n",
       "\n",
       "    .dataframe tbody tr th {\n",
       "        vertical-align: top;\n",
       "    }\n",
       "\n",
       "    .dataframe thead th {\n",
       "        text-align: right;\n",
       "    }\n",
       "</style>\n",
       "<table border=\"1\" class=\"dataframe\">\n",
       "  <thead>\n",
       "    <tr style=\"text-align: right;\">\n",
       "      <th></th>\n",
       "      <th>COMMENT_ID</th>\n",
       "      <th>AUTHOR</th>\n",
       "      <th>CONTENT</th>\n",
       "      <th>CLASS</th>\n",
       "    </tr>\n",
       "  </thead>\n",
       "  <tbody>\n",
       "    <tr>\n",
       "      <th>0</th>\n",
       "      <td>1</td>\n",
       "      <td>Brandon Pryor</td>\n",
       "      <td>I dont even watch it anymore i just come here ...</td>\n",
       "      <td>0</td>\n",
       "    </tr>\n",
       "    <tr>\n",
       "      <th>1</th>\n",
       "      <td>2</td>\n",
       "      <td>Chelsea Yun</td>\n",
       "      <td>i hate rap﻿</td>\n",
       "      <td>0</td>\n",
       "    </tr>\n",
       "    <tr>\n",
       "      <th>2</th>\n",
       "      <td>3</td>\n",
       "      <td>Sofia Aristizabal</td>\n",
       "      <td>I loved, she is amazing.. OMG your eyes*_*﻿</td>\n",
       "      <td>0</td>\n",
       "    </tr>\n",
       "    <tr>\n",
       "      <th>3</th>\n",
       "      <td>4</td>\n",
       "      <td>said abdesalam</td>\n",
       "      <td>song is bad﻿</td>\n",
       "      <td>0</td>\n",
       "    </tr>\n",
       "    <tr>\n",
       "      <th>4</th>\n",
       "      <td>5</td>\n",
       "      <td>crazy girl</td>\n",
       "      <td>tension⤴︎⤴︎﻿</td>\n",
       "      <td>0</td>\n",
       "    </tr>\n",
       "  </tbody>\n",
       "</table>\n",
       "</div>"
      ],
      "text/plain": [
       "   COMMENT_ID             AUTHOR  \\\n",
       "0           1      Brandon Pryor   \n",
       "1           2        Chelsea Yun   \n",
       "2           3  Sofia Aristizabal   \n",
       "3           4     said abdesalam   \n",
       "4           5         crazy girl   \n",
       "\n",
       "                                             CONTENT  CLASS  \n",
       "0  I dont even watch it anymore i just come here ...      0  \n",
       "1                                        i hate rap﻿      0  \n",
       "2        I loved, she is amazing.. OMG your eyes*_*﻿      0  \n",
       "3                                       song is bad﻿      0  \n",
       "4                                       tension⤴︎⤴︎﻿      0  "
      ]
     },
     "execution_count": 97,
     "metadata": {},
     "output_type": "execute_result"
    }
   ],
   "source": [
    "df.head()"
   ]
  },
  {
   "cell_type": "markdown",
   "id": "1142d2f6",
   "metadata": {},
   "source": [
    "Data cleaning"
   ]
  },
  {
   "cell_type": "code",
   "execution_count": 98,
   "id": "a0c9ee9c",
   "metadata": {},
   "outputs": [],
   "source": [
    "df['CONTENT'] = df['CONTENT'] # .apply(clean_text)"
   ]
  },
  {
   "cell_type": "code",
   "execution_count": 99,
   "id": "2c2f045f",
   "metadata": {},
   "outputs": [
    {
     "data": {
      "text/html": [
       "<div>\n",
       "<style scoped>\n",
       "    .dataframe tbody tr th:only-of-type {\n",
       "        vertical-align: middle;\n",
       "    }\n",
       "\n",
       "    .dataframe tbody tr th {\n",
       "        vertical-align: top;\n",
       "    }\n",
       "\n",
       "    .dataframe thead th {\n",
       "        text-align: right;\n",
       "    }\n",
       "</style>\n",
       "<table border=\"1\" class=\"dataframe\">\n",
       "  <thead>\n",
       "    <tr style=\"text-align: right;\">\n",
       "      <th></th>\n",
       "      <th>COMMENT_ID</th>\n",
       "      <th>AUTHOR</th>\n",
       "      <th>CONTENT</th>\n",
       "      <th>CLASS</th>\n",
       "    </tr>\n",
       "  </thead>\n",
       "  <tbody>\n",
       "    <tr>\n",
       "      <th>0</th>\n",
       "      <td>1</td>\n",
       "      <td>Brandon Pryor</td>\n",
       "      <td>I dont even watch it anymore i just come here ...</td>\n",
       "      <td>0</td>\n",
       "    </tr>\n",
       "    <tr>\n",
       "      <th>1</th>\n",
       "      <td>2</td>\n",
       "      <td>Chelsea Yun</td>\n",
       "      <td>i hate rap﻿</td>\n",
       "      <td>0</td>\n",
       "    </tr>\n",
       "    <tr>\n",
       "      <th>2</th>\n",
       "      <td>3</td>\n",
       "      <td>Sofia Aristizabal</td>\n",
       "      <td>I loved, she is amazing.. OMG your eyes*_*﻿</td>\n",
       "      <td>0</td>\n",
       "    </tr>\n",
       "    <tr>\n",
       "      <th>3</th>\n",
       "      <td>4</td>\n",
       "      <td>said abdesalam</td>\n",
       "      <td>song is bad﻿</td>\n",
       "      <td>0</td>\n",
       "    </tr>\n",
       "    <tr>\n",
       "      <th>4</th>\n",
       "      <td>5</td>\n",
       "      <td>crazy girl</td>\n",
       "      <td>tension⤴︎⤴︎﻿</td>\n",
       "      <td>0</td>\n",
       "    </tr>\n",
       "  </tbody>\n",
       "</table>\n",
       "</div>"
      ],
      "text/plain": [
       "   COMMENT_ID             AUTHOR  \\\n",
       "0           1      Brandon Pryor   \n",
       "1           2        Chelsea Yun   \n",
       "2           3  Sofia Aristizabal   \n",
       "3           4     said abdesalam   \n",
       "4           5         crazy girl   \n",
       "\n",
       "                                             CONTENT  CLASS  \n",
       "0  I dont even watch it anymore i just come here ...      0  \n",
       "1                                        i hate rap﻿      0  \n",
       "2        I loved, she is amazing.. OMG your eyes*_*﻿      0  \n",
       "3                                       song is bad﻿      0  \n",
       "4                                       tension⤴︎⤴︎﻿      0  "
      ]
     },
     "execution_count": 99,
     "metadata": {},
     "output_type": "execute_result"
    }
   ],
   "source": [
    "df.head()"
   ]
  },
  {
   "cell_type": "markdown",
   "id": "9b26a71f",
   "metadata": {},
   "source": [
    "Create bag of words model, set a word must appear in at least 2 times and at most 70% of the comments to be included to fit the model"
   ]
  },
  {
   "cell_type": "code",
   "execution_count": 100,
   "id": "cfc2f092",
   "metadata": {
    "scrolled": true
   },
   "outputs": [],
   "source": [
    "vectorizer = CountVectorizer(min_df=2, max_df = 0.7, stop_words = 'english', lowercase = True)\n",
    "X = df['CONTENT']\n",
    "Y = df['CLASS']"
   ]
  },
  {
   "cell_type": "markdown",
   "id": "a9d83d70",
   "metadata": {},
   "source": [
    "Seperate the train and test data. 20% of data for testing and 80% for training"
   ]
  },
  {
   "cell_type": "code",
   "execution_count": 101,
   "id": "636f40b2-5faf-4656-acde-8e155d144204",
   "metadata": {},
   "outputs": [],
   "source": [
    "X_train, X_test, Y_train, Y_test = train_test_split(X, Y, test_size = 0.2, random_state = 11)"
   ]
  },
  {
   "cell_type": "markdown",
   "id": "ceb4d604",
   "metadata": {},
   "source": [
    "Use LR to fit the model"
   ]
  },
  {
   "cell_type": "code",
   "execution_count": 102,
   "id": "6ec669ad-7a3b-435e-8b82-2a384b8f929e",
   "metadata": {
    "scrolled": true
   },
   "outputs": [
    {
     "data": {
      "text/html": [
       "<style>#sk-container-id-12 {color: black;}#sk-container-id-12 pre{padding: 0;}#sk-container-id-12 div.sk-toggleable {background-color: white;}#sk-container-id-12 label.sk-toggleable__label {cursor: pointer;display: block;width: 100%;margin-bottom: 0;padding: 0.3em;box-sizing: border-box;text-align: center;}#sk-container-id-12 label.sk-toggleable__label-arrow:before {content: \"▸\";float: left;margin-right: 0.25em;color: #696969;}#sk-container-id-12 label.sk-toggleable__label-arrow:hover:before {color: black;}#sk-container-id-12 div.sk-estimator:hover label.sk-toggleable__label-arrow:before {color: black;}#sk-container-id-12 div.sk-toggleable__content {max-height: 0;max-width: 0;overflow: hidden;text-align: left;background-color: #f0f8ff;}#sk-container-id-12 div.sk-toggleable__content pre {margin: 0.2em;color: black;border-radius: 0.25em;background-color: #f0f8ff;}#sk-container-id-12 input.sk-toggleable__control:checked~div.sk-toggleable__content {max-height: 200px;max-width: 100%;overflow: auto;}#sk-container-id-12 input.sk-toggleable__control:checked~label.sk-toggleable__label-arrow:before {content: \"▾\";}#sk-container-id-12 div.sk-estimator input.sk-toggleable__control:checked~label.sk-toggleable__label {background-color: #d4ebff;}#sk-container-id-12 div.sk-label input.sk-toggleable__control:checked~label.sk-toggleable__label {background-color: #d4ebff;}#sk-container-id-12 input.sk-hidden--visually {border: 0;clip: rect(1px 1px 1px 1px);clip: rect(1px, 1px, 1px, 1px);height: 1px;margin: -1px;overflow: hidden;padding: 0;position: absolute;width: 1px;}#sk-container-id-12 div.sk-estimator {font-family: monospace;background-color: #f0f8ff;border: 1px dotted black;border-radius: 0.25em;box-sizing: border-box;margin-bottom: 0.5em;}#sk-container-id-12 div.sk-estimator:hover {background-color: #d4ebff;}#sk-container-id-12 div.sk-parallel-item::after {content: \"\";width: 100%;border-bottom: 1px solid gray;flex-grow: 1;}#sk-container-id-12 div.sk-label:hover label.sk-toggleable__label {background-color: #d4ebff;}#sk-container-id-12 div.sk-serial::before {content: \"\";position: absolute;border-left: 1px solid gray;box-sizing: border-box;top: 0;bottom: 0;left: 50%;z-index: 0;}#sk-container-id-12 div.sk-serial {display: flex;flex-direction: column;align-items: center;background-color: white;padding-right: 0.2em;padding-left: 0.2em;position: relative;}#sk-container-id-12 div.sk-item {position: relative;z-index: 1;}#sk-container-id-12 div.sk-parallel {display: flex;align-items: stretch;justify-content: center;background-color: white;position: relative;}#sk-container-id-12 div.sk-item::before, #sk-container-id-12 div.sk-parallel-item::before {content: \"\";position: absolute;border-left: 1px solid gray;box-sizing: border-box;top: 0;bottom: 0;left: 50%;z-index: -1;}#sk-container-id-12 div.sk-parallel-item {display: flex;flex-direction: column;z-index: 1;position: relative;background-color: white;}#sk-container-id-12 div.sk-parallel-item:first-child::after {align-self: flex-end;width: 50%;}#sk-container-id-12 div.sk-parallel-item:last-child::after {align-self: flex-start;width: 50%;}#sk-container-id-12 div.sk-parallel-item:only-child::after {width: 0;}#sk-container-id-12 div.sk-dashed-wrapped {border: 1px dashed gray;margin: 0 0.4em 0.5em 0.4em;box-sizing: border-box;padding-bottom: 0.4em;background-color: white;}#sk-container-id-12 div.sk-label label {font-family: monospace;font-weight: bold;display: inline-block;line-height: 1.2em;}#sk-container-id-12 div.sk-label-container {text-align: center;}#sk-container-id-12 div.sk-container {/* jupyter's `normalize.less` sets `[hidden] { display: none; }` but bootstrap.min.css set `[hidden] { display: none !important; }` so we also need the `!important` here to be able to override the default hidden behavior on the sphinx rendered scikit-learn.org. See: https://github.com/scikit-learn/scikit-learn/issues/21755 */display: inline-block !important;position: relative;}#sk-container-id-12 div.sk-text-repr-fallback {display: none;}</style><div id=\"sk-container-id-12\" class=\"sk-top-container\"><div class=\"sk-text-repr-fallback\"><pre>Pipeline(steps=[(&#x27;countvectorizer&#x27;,\n",
       "                 CountVectorizer(max_df=0.7, min_df=2, stop_words=&#x27;english&#x27;)),\n",
       "                (&#x27;standardscaler&#x27;, StandardScaler(with_mean=False)),\n",
       "                (&#x27;logisticregression&#x27;, LogisticRegression())])</pre><b>In a Jupyter environment, please rerun this cell to show the HTML representation or trust the notebook. <br />On GitHub, the HTML representation is unable to render, please try loading this page with nbviewer.org.</b></div><div class=\"sk-container\" hidden><div class=\"sk-item sk-dashed-wrapped\"><div class=\"sk-label-container\"><div class=\"sk-label sk-toggleable\"><input class=\"sk-toggleable__control sk-hidden--visually\" id=\"sk-estimator-id-45\" type=\"checkbox\" ><label for=\"sk-estimator-id-45\" class=\"sk-toggleable__label sk-toggleable__label-arrow\">Pipeline</label><div class=\"sk-toggleable__content\"><pre>Pipeline(steps=[(&#x27;countvectorizer&#x27;,\n",
       "                 CountVectorizer(max_df=0.7, min_df=2, stop_words=&#x27;english&#x27;)),\n",
       "                (&#x27;standardscaler&#x27;, StandardScaler(with_mean=False)),\n",
       "                (&#x27;logisticregression&#x27;, LogisticRegression())])</pre></div></div></div><div class=\"sk-serial\"><div class=\"sk-item\"><div class=\"sk-estimator sk-toggleable\"><input class=\"sk-toggleable__control sk-hidden--visually\" id=\"sk-estimator-id-46\" type=\"checkbox\" ><label for=\"sk-estimator-id-46\" class=\"sk-toggleable__label sk-toggleable__label-arrow\">CountVectorizer</label><div class=\"sk-toggleable__content\"><pre>CountVectorizer(max_df=0.7, min_df=2, stop_words=&#x27;english&#x27;)</pre></div></div></div><div class=\"sk-item\"><div class=\"sk-estimator sk-toggleable\"><input class=\"sk-toggleable__control sk-hidden--visually\" id=\"sk-estimator-id-47\" type=\"checkbox\" ><label for=\"sk-estimator-id-47\" class=\"sk-toggleable__label sk-toggleable__label-arrow\">StandardScaler</label><div class=\"sk-toggleable__content\"><pre>StandardScaler(with_mean=False)</pre></div></div></div><div class=\"sk-item\"><div class=\"sk-estimator sk-toggleable\"><input class=\"sk-toggleable__control sk-hidden--visually\" id=\"sk-estimator-id-48\" type=\"checkbox\" ><label for=\"sk-estimator-id-48\" class=\"sk-toggleable__label sk-toggleable__label-arrow\">LogisticRegression</label><div class=\"sk-toggleable__content\"><pre>LogisticRegression()</pre></div></div></div></div></div></div></div>"
      ],
      "text/plain": [
       "Pipeline(steps=[('countvectorizer',\n",
       "                 CountVectorizer(max_df=0.7, min_df=2, stop_words='english')),\n",
       "                ('standardscaler', StandardScaler(with_mean=False)),\n",
       "                ('logisticregression', LogisticRegression())])"
      ]
     },
     "execution_count": 102,
     "metadata": {},
     "output_type": "execute_result"
    }
   ],
   "source": [
    "model = make_pipeline(vectorizer, StandardScaler(with_mean=False), LogisticRegression()) \n",
    "model.fit(X_train, Y_train)"
   ]
  },
  {
   "cell_type": "markdown",
   "id": "eea851b2",
   "metadata": {},
   "source": [
    "Use the fitted model to predict the testing data and calculate the accuracy score"
   ]
  },
  {
   "cell_type": "code",
   "execution_count": 103,
   "id": "d3b61e56-5c77-4ee6-9a50-f8a0b756971d",
   "metadata": {},
   "outputs": [],
   "source": [
    "Y_pred = model.predict(X_test)\n",
    "Y_pred = [1 if i >= 0.5 else 0 for i in Y_pred]\n",
    "accuracy_on_training_data = accuracy_score(Y_test, Y_pred)"
   ]
  },
  {
   "cell_type": "code",
   "execution_count": 104,
   "id": "957c6566-89d0-4225-b938-8f8e4efbbe3b",
   "metadata": {},
   "outputs": [
    {
     "name": "stdout",
     "output_type": "stream",
     "text": [
      "0.927007299270073\n"
     ]
    }
   ],
   "source": [
    "print(accuracy_on_training_data)"
   ]
  },
  {
   "cell_type": "markdown",
   "id": "634ffe64",
   "metadata": {},
   "source": [
    "Calculate the f1 score"
   ]
  },
  {
   "cell_type": "code",
   "execution_count": 105,
   "id": "b1f5d72e",
   "metadata": {},
   "outputs": [
    {
     "name": "stdout",
     "output_type": "stream",
     "text": [
      "F1-Score is 0.92\n"
     ]
    }
   ],
   "source": [
    "f1 = f1_score(Y_test, Y_pred)\n",
    "print(f\"F1-Score is {f1:.2f}\")"
   ]
  },
  {
   "cell_type": "code",
   "execution_count": 106,
   "id": "ab183620",
   "metadata": {},
   "outputs": [
    {
     "name": "stdout",
     "output_type": "stream",
     "text": [
      "[1]\n"
     ]
    }
   ],
   "source": [
    "input_your_comment = [\"check\"]\n",
    "prediction = model.predict(input_your_comment)\n",
    "print(prediction)"
   ]
  },
  {
   "cell_type": "markdown",
   "id": "9c7bb653",
   "metadata": {},
   "source": [
    "Use the model to predict the test and generate the csv file"
   ]
  },
  {
   "cell_type": "code",
   "execution_count": 107,
   "id": "6a34cbea",
   "metadata": {},
   "outputs": [],
   "source": [
    "df2 = pd.read_csv(\"test.csv\")\n",
    "X1 = df2[\"CONTENT\"].apply(clean_text)\n",
    "Y1 = lasso.predict(X1)\n",
    "Y1 = [1 if i >= 0.5 else 0 for i in Y1]"
   ]
  },
  {
   "cell_type": "code",
   "execution_count": 108,
   "id": "8716c8aa",
   "metadata": {
    "scrolled": true
   },
   "outputs": [
    {
     "name": "stdout",
     "output_type": "stream",
     "text": [
      "[0, 1, 1, 1, 0, 1, 1, 0, 0, 0, 0, 1, 1, 1, 0, 0, 0, 0, 1, 0, 0, 0, 0, 0, 0, 0, 0, 0, 0, 0, 1, 1, 0, 1, 0, 1, 0, 0, 0, 1, 0, 0, 1, 1, 0, 1, 0, 0, 1, 0, 1, 0, 0, 0, 0, 0, 1, 0, 0, 0, 1, 1, 1, 0, 0, 0, 1, 1, 0, 0, 1, 0, 0, 1, 0, 1, 0, 1, 0, 1, 0, 0, 0, 1, 0, 1, 0, 0, 1, 0, 0, 0, 1, 1, 0, 0, 0, 1, 0, 0, 0, 0, 0, 0, 0, 0, 0, 0, 0, 0, 0, 0, 0, 0, 0, 0, 0, 1, 0, 0, 1, 0, 0, 0, 0, 0, 0, 1, 1, 0, 1, 0, 1, 0, 1, 1, 1, 0, 0, 0, 1, 0, 1, 0, 0, 1, 1, 0, 0, 0, 0, 0, 0, 0, 1, 1, 0, 0, 0, 0, 1, 0, 1, 0, 1, 0, 1, 1, 0, 0, 1, 0, 0, 0, 1, 1, 1, 0, 0, 0, 0, 1, 0, 0, 0, 0, 1, 0, 0, 0, 1, 1, 0, 1, 0, 0, 0, 1, 1, 1, 0, 0, 0, 0, 0, 0, 1, 0, 1, 0, 0, 0, 0, 1, 0, 0, 0, 1, 1, 1, 0, 0, 1, 1, 1, 0, 0, 0, 1, 0, 0, 1, 0, 0, 1, 0, 0, 0, 0, 0, 0, 0, 0, 0, 0, 1, 1, 0, 0, 1, 0, 0, 0, 1, 0, 0, 0, 0, 0, 0, 0, 0, 1, 1, 0, 1, 0, 1, 0, 0, 0, 1, 1, 1, 1, 1, 1, 0, 0, 0, 1, 0, 0, 0, 0, 1, 0, 0, 1, 0, 0, 0, 1, 0, 0, 0, 1, 1, 1, 1, 1, 0, 1, 0, 0, 1, 0, 1, 0, 1, 0, 1, 0, 1, 1, 0, 0, 0, 1, 0, 0, 1, 1, 1, 1, 0, 0, 0, 0, 1, 0, 1, 0, 0, 0, 0, 0, 1, 0, 0, 0, 1, 0, 1, 1, 0, 0, 1, 1, 0, 1, 0, 0, 0, 0, 0, 0, 1, 1, 0, 1, 0, 0, 0, 0, 0, 0, 1, 0, 0, 0, 0, 0, 1, 0, 0, 0, 1, 1, 1, 1, 1, 1, 0, 0, 0, 0, 0, 0, 0, 1, 0, 1, 0, 0, 0, 0, 0, 0, 1, 1, 1, 0, 0, 0, 1, 0, 0, 1, 0, 1, 0, 1, 0, 0, 1, 0, 0, 0, 0, 0, 0, 0, 0, 1, 1, 0, 1, 0, 0, 1, 1, 0, 0, 1, 0, 1, 0, 1, 1, 0, 1, 0, 0, 0, 0, 0, 0, 1, 0, 0, 1, 1, 0, 0, 0, 1, 0, 0, 0, 0, 0, 1, 0, 0, 1, 1, 0, 0, 0, 1, 0, 0, 1, 0, 0, 1, 0, 0, 0, 0, 0, 0, 1, 0, 0, 1, 0, 0, 0, 1, 0, 0, 0, 0, 1, 1, 0, 1, 0, 0, 0, 0, 1, 0, 0, 1, 1, 0, 0, 0, 0, 0, 0, 1, 0, 0, 1, 1, 0, 0, 0, 1, 1, 1, 0, 0, 0, 0, 0, 0, 1, 1, 1, 0, 1, 1, 0, 0, 0, 0, 0, 0, 0, 1, 1, 0, 0, 1, 0, 1, 0, 1, 0, 1, 1, 1, 0, 0, 0, 1, 0, 1, 1, 1, 1, 0, 1, 0, 0, 0, 1, 1, 1, 0, 0, 1, 1, 1, 0, 1, 0, 1, 0, 0, 0, 0]\n"
     ]
    }
   ],
   "source": [
    "print(Y1)"
   ]
  },
  {
   "cell_type": "code",
   "execution_count": 109,
   "id": "0e205c3b",
   "metadata": {},
   "outputs": [],
   "source": [
    "matrix_df = pd.DataFrame(Y1, columns=[\"CLASS\"])\n",
    "matrix_df[\"COMMENT_ID\"]=df2[\"COMMENT_ID\"]\n",
    "matrix_df = matrix_df[[\"COMMENT_ID\", \"CLASS\"]]"
   ]
  },
  {
   "cell_type": "code",
   "execution_count": 110,
   "id": "71875e32",
   "metadata": {},
   "outputs": [
    {
     "data": {
      "text/html": [
       "<div>\n",
       "<style scoped>\n",
       "    .dataframe tbody tr th:only-of-type {\n",
       "        vertical-align: middle;\n",
       "    }\n",
       "\n",
       "    .dataframe tbody tr th {\n",
       "        vertical-align: top;\n",
       "    }\n",
       "\n",
       "    .dataframe thead th {\n",
       "        text-align: right;\n",
       "    }\n",
       "</style>\n",
       "<table border=\"1\" class=\"dataframe\">\n",
       "  <thead>\n",
       "    <tr style=\"text-align: right;\">\n",
       "      <th></th>\n",
       "      <th>COMMENT_ID</th>\n",
       "      <th>CLASS</th>\n",
       "    </tr>\n",
       "  </thead>\n",
       "  <tbody>\n",
       "    <tr>\n",
       "      <th>0</th>\n",
       "      <td>1370</td>\n",
       "      <td>0</td>\n",
       "    </tr>\n",
       "    <tr>\n",
       "      <th>1</th>\n",
       "      <td>1371</td>\n",
       "      <td>1</td>\n",
       "    </tr>\n",
       "    <tr>\n",
       "      <th>2</th>\n",
       "      <td>1372</td>\n",
       "      <td>1</td>\n",
       "    </tr>\n",
       "    <tr>\n",
       "      <th>3</th>\n",
       "      <td>1373</td>\n",
       "      <td>1</td>\n",
       "    </tr>\n",
       "    <tr>\n",
       "      <th>4</th>\n",
       "      <td>1374</td>\n",
       "      <td>0</td>\n",
       "    </tr>\n",
       "  </tbody>\n",
       "</table>\n",
       "</div>"
      ],
      "text/plain": [
       "   COMMENT_ID  CLASS\n",
       "0        1370      0\n",
       "1        1371      1\n",
       "2        1372      1\n",
       "3        1373      1\n",
       "4        1374      0"
      ]
     },
     "execution_count": 110,
     "metadata": {},
     "output_type": "execute_result"
    }
   ],
   "source": [
    "matrix_df.head()"
   ]
  },
  {
   "cell_type": "code",
   "execution_count": 111,
   "id": "b1f1e6ea",
   "metadata": {},
   "outputs": [],
   "source": [
    "matrix_df.to_csv(\"test_result11.csv\", index=False)"
   ]
  },
  {
   "cell_type": "code",
   "execution_count": null,
   "id": "7feefc79",
   "metadata": {},
   "outputs": [],
   "source": []
  }
 ],
 "metadata": {
  "kernelspec": {
   "display_name": "Python 3 (ipykernel)",
   "language": "python",
   "name": "python3"
  },
  "language_info": {
   "codemirror_mode": {
    "name": "ipython",
    "version": 3
   },
   "file_extension": ".py",
   "mimetype": "text/x-python",
   "name": "python",
   "nbconvert_exporter": "python",
   "pygments_lexer": "ipython3",
   "version": "3.11.6"
  }
 },
 "nbformat": 4,
 "nbformat_minor": 5
}
